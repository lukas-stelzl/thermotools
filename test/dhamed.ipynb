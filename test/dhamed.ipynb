{
 "cells": [
  {
   "cell_type": "code",
   "execution_count": 13,
   "metadata": {
    "collapsed": true
   },
   "outputs": [],
   "source": [
    "import thermotools.wham as wham\n",
    "import thermotools.tram as tram\n",
    "import thermotools.tram_direct as tram_direct\n",
    "import thermotools.mbar as mbar\n",
    "import thermotools.mbar_direct as mbar_direct\n",
    "import thermotools.dtram as dtram\n",
    "import thermotools.tram as tram\n",
    "import numpy as np\n",
    "from numpy.testing import assert_allclose\n",
    "\n",
    "#   ************************************************************************************************\n",
    "#   data generation functions\n",
    "#   ************************************************************************************************\n",
    "\n",
    "def tower_sample(distribution):\n",
    "    cdf = np.cumsum(distribution)\n",
    "    rnd = np.random.rand() * cdf[-1]\n",
    "    return np.searchsorted(cdf, rnd)\n",
    "\n",
    "def draw_independent_samples(biased_stationary_distribution, n_samples):\n",
    "    state_counts = np.zeros(shape=biased_stationary_distribution.shape, dtype=np.intc)\n",
    "    conf_state_sequence = np.zeros(\n",
    "        biased_stationary_distribution.shape[0]*n_samples, dtype=np.intc)\n",
    "    for K in range(biased_stationary_distribution.shape[0]):\n",
    "        for s in range(n_samples):\n",
    "            i = tower_sample(biased_stationary_distribution[K, :])\n",
    "            state_counts[K, i] += 1\n",
    "            conf_state_sequence[K * n_samples + s] = i\n",
    "    return conf_state_sequence, state_counts\n",
    "\n",
    "def draw_transition_counts(transition_matrices, n_samples, x0):\n",
    "    \"\"\"generates a discrete Markov chain\"\"\"\n",
    "    count_matrices = np.zeros(shape=transition_matrices.shape, dtype=np.intc)\n",
    "    conf_state_sequence = np.zeros(\n",
    "        shape=(transition_matrices.shape[0]*(n_samples+1),), dtype=np.intc)\n",
    "    state_counts = np.zeros(shape=transition_matrices.shape[0:2], dtype=np.intc)\n",
    "    h = 0\n",
    "    for K in range(transition_matrices.shape[0]):\n",
    "        x = x0\n",
    "        state_counts[K, x] += 1\n",
    "        conf_state_sequence[h] = x\n",
    "        h += 1\n",
    "        for s in range(n_samples):\n",
    "            x_new = tower_sample(transition_matrices[K, x, :])\n",
    "            count_matrices[K, x, x_new] += 1\n",
    "            x = x_new\n",
    "            state_counts[K, x] += 1\n",
    "            conf_state_sequence[h] = x\n",
    "            h += 1\n",
    "    return count_matrices, conf_state_sequence, state_counts\n",
    "\n",
    "#   ************************************************************************************************\n",
    "#   test class\n",
    "#   ************************************************************************************************\n",
    "\n",
    "class TestThreeTwoModel(object):\n",
    "    @classmethod\n",
    "    def setup_class(cls):\n",
    "        cls.energy = np.array([1.0, 2.0, 0.0], dtype=np.float64)\n",
    "        cls.bias_energies = np.array([[0.0, 0.0, 0.0], 2.0 - cls.energy], dtype=np.float64)\n",
    "        cls.stationary_distribution = np.exp(-cls.energy) / np.exp(-cls.energy).sum()\n",
    "        cls.conf_energies = -np.log(cls.stationary_distribution)\n",
    "        cls.biased_conf_energies = cls.conf_energies[np.newaxis, :] + cls.bias_energies\n",
    "        cls.conf_partition_function = np.exp(-cls.biased_conf_energies)\n",
    "        cls.partition_function = cls.conf_partition_function.sum(axis=1)\n",
    "        cls.therm_energies = -np.log(cls.partition_function)\n",
    "        cls.biased_stationary_distribution = np.exp(-cls.bias_energies) * \\\n",
    "            cls.stationary_distribution[np.newaxis, :] / cls.partition_function[:, np.newaxis]\n",
    "        metropolis = cls.energy[np.newaxis, :] - cls.energy[:, np.newaxis]\n",
    "        metropolis[(metropolis < 0.0)] = 0.0\n",
    "        selection = np.array([[0.5, 0.5, 0.0], [0.5, 0.0, 0.5], [0.0, 0.5, 0.5]], dtype=np.float64)\n",
    "        metr_hast = selection * np.exp(-metropolis)\n",
    "        for i in range(metr_hast.shape[0]):\n",
    "            metr_hast[i, i] = 0.0\n",
    "            metr_hast[i, i] = 1.0 - metr_hast[i, :].sum()\n",
    "        cls.transition_matrices = np.array([metr_hast, selection])\n",
    "        cls.n_samples = 10000\n",
    "        cls.conf_state_sequence_ind, cls.state_counts_ind = draw_independent_samples(\n",
    "            cls.biased_stationary_distribution, cls.n_samples)\n",
    "        cls.count_matrices, cls.conf_state_sequence, cls.state_counts = draw_transition_counts(\n",
    "            cls.transition_matrices, cls.n_samples, 0)\n",
    "    @classmethod\n",
    "\n",
    "    def test_tram_direct(self):\n",
    "        bias_energies = np.ascontiguousarray(self.bias_energies[:,self.conf_state_sequence].T)\n",
    "        # this serves as template for a test system for DHAMed implementation\n",
    "        biased_conf_energies, conf_energies, therm_energies, log_lagrangian_mult, error_history, logL_history = tram_direct.estimate(\n",
    "            self.count_matrices, self.state_counts, [bias_energies], [self.conf_state_sequence],\n",
    "            maxiter=10000, maxerr=1.0E-12, save_convergence_info=10)\n",
    "        return biased_conf_energies, conf_energies, therm_energies\n",
    "        \n",
    "    def test_dhamed_direct(self):\n",
    "        bias_energies = np.ascontiguousarray(self.bias_energies[:,self.conf_state_sequence].T)\n",
    "        o = tram_direct.estimate(\n",
    "            self.count_matrices, self.state_counts, [bias_energies], [self.conf_state_sequence],\n",
    "            maxiter=400000, maxerr=1.0E-12, save_convergence_info=0, dhamed_true=True)\n",
    "        return o"
   ]
  },
  {
   "cell_type": "code",
   "execution_count": 14,
   "metadata": {
    "collapsed": true
   },
   "outputs": [],
   "source": [
    "t = TestThreeTwoModel()\n",
    "t.setup_class()"
   ]
  },
  {
   "cell_type": "code",
   "execution_count": 15,
   "metadata": {
    "collapsed": false
   },
   "outputs": [],
   "source": [
    "biased_conf_energies, conf_energies, therm_energies = t.test_tram_direct()"
   ]
  },
  {
   "cell_type": "code",
   "execution_count": 16,
   "metadata": {
    "collapsed": false
   },
   "outputs": [
    {
     "data": {
      "text/plain": [
       "array([[ 1.40648408,  2.41734668,  0.40670746],\n",
       "       [ 2.40648408,  2.41734668,  2.40670746]])"
      ]
     },
     "execution_count": 16,
     "metadata": {},
     "output_type": "execute_result"
    }
   ],
   "source": [
    "biased_conf_energies # first ensemble has bias zero"
   ]
  },
  {
   "cell_type": "code",
   "execution_count": 17,
   "metadata": {
    "collapsed": false
   },
   "outputs": [
    {
     "data": {
      "text/plain": [
       "array([ 1.40648408,  2.41734668,  0.40670746])"
      ]
     },
     "execution_count": 17,
     "metadata": {},
     "output_type": "execute_result"
    }
   ],
   "source": [
    "conf_energies # "
   ]
  },
  {
   "cell_type": "code",
   "execution_count": 18,
   "metadata": {
    "collapsed": false
   },
   "outputs": [
    {
     "data": {
      "text/plain": [
       "array([ -2.23072116e-11,   1.31155428e+00])"
      ]
     },
     "execution_count": 18,
     "metadata": {},
     "output_type": "execute_result"
    }
   ],
   "source": [
    "therm_energies # free energies of the different ensembles kT=1"
   ]
  },
  {
   "cell_type": "code",
   "execution_count": 19,
   "metadata": {
    "collapsed": false,
    "scrolled": true
   },
   "outputs": [
    {
     "name": "stderr",
     "output_type": "stream",
     "text": [
      "/Users/lukas/anaconda/lib/python2.7/site-packages/ipykernel/__main__.py:95: NotConvergedWarning: TRAM did not converge: last increment = 2.44940e-01\n"
     ]
    }
   ],
   "source": [
    "o = t.test_dhamed_direct()"
   ]
  },
  {
   "cell_type": "code",
   "execution_count": 20,
   "metadata": {
    "collapsed": false
   },
   "outputs": [
    {
     "data": {
      "text/plain": [
       "array([[ 0.58108626,  0.58108626,  0.58108626],\n",
       "       [ 0.58108626,  0.58108626,  0.58108626]])"
      ]
     },
     "execution_count": 20,
     "metadata": {},
     "output_type": "execute_result"
    }
   ],
   "source": [
    "o[0]"
   ]
  },
  {
   "cell_type": "code",
   "execution_count": 21,
   "metadata": {
    "collapsed": false
   },
   "outputs": [
    {
     "data": {
      "text/plain": [
       "array([[ 1.40648408,  2.41734668,  0.40670746],\n",
       "       [ 2.40648408,  2.41734668,  2.40670746]])"
      ]
     },
     "execution_count": 21,
     "metadata": {},
     "output_type": "execute_result"
    }
   ],
   "source": [
    "biased_conf_energies"
   ]
  },
  {
   "cell_type": "code",
   "execution_count": 22,
   "metadata": {
    "collapsed": false
   },
   "outputs": [
    {
     "data": {
      "text/plain": [
       "array([ 2.03958727,  1.86175697,  0.33614674])"
      ]
     },
     "execution_count": 22,
     "metadata": {},
     "output_type": "execute_result"
    }
   ],
   "source": [
    "o[1]"
   ]
  },
  {
   "cell_type": "code",
   "execution_count": 23,
   "metadata": {
    "collapsed": false
   },
   "outputs": [
    {
     "data": {
      "text/plain": [
       "array([ 1.40648408,  2.41734668,  0.40670746])"
      ]
     },
     "execution_count": 23,
     "metadata": {},
     "output_type": "execute_result"
    }
   ],
   "source": [
    "conf_energies"
   ]
  },
  {
   "cell_type": "code",
   "execution_count": 24,
   "metadata": {
    "collapsed": false
   },
   "outputs": [
    {
     "data": {
      "text/plain": [
       "array([-0.51752603, -0.51752603])"
      ]
     },
     "execution_count": 24,
     "metadata": {},
     "output_type": "execute_result"
    }
   ],
   "source": [
    "o[2]"
   ]
  },
  {
   "cell_type": "code",
   "execution_count": 25,
   "metadata": {
    "collapsed": false
   },
   "outputs": [
    {
     "data": {
      "text/plain": [
       "array([ -2.23072116e-11,   1.31155428e+00])"
      ]
     },
     "execution_count": 25,
     "metadata": {},
     "output_type": "execute_result"
    }
   ],
   "source": [
    "therm_energies"
   ]
  },
  {
   "cell_type": "code",
   "execution_count": null,
   "metadata": {
    "collapsed": true
   },
   "outputs": [],
   "source": []
  }
 ],
 "metadata": {
  "anaconda-cloud": {},
  "kernelspec": {
   "display_name": "Python [Root]",
   "language": "python",
   "name": "Python [Root]"
  },
  "language_info": {
   "codemirror_mode": {
    "name": "ipython",
    "version": 2
   },
   "file_extension": ".py",
   "mimetype": "text/x-python",
   "name": "python",
   "nbconvert_exporter": "python",
   "pygments_lexer": "ipython2",
   "version": "2.7.11"
  },
  "toc": {
   "colors": {
    "hover_highlight": "#DAA520",
    "running_highlight": "#FF0000",
    "selected_highlight": "#FFD700"
   },
   "moveMenuLeft": true,
   "nav_menu": {
    "height": "12px",
    "width": "252px"
   },
   "navigate_menu": true,
   "number_sections": true,
   "sideBar": true,
   "threshold": 4,
   "toc_cell": false,
   "toc_section_display": "block",
   "toc_window_display": false
  }
 },
 "nbformat": 4,
 "nbformat_minor": 0
}
